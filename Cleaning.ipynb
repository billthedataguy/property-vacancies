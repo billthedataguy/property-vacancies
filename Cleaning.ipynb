{
 "cells": [
  {
   "cell_type": "code",
   "execution_count": null,
   "id": "08dd51df-3f2d-4f3b-a025-a13ac6237642",
   "metadata": {},
   "outputs": [],
   "source": [
    "import pandas as pd\n",
    "import sqlite3"
   ]
  },
  {
   "cell_type": "code",
   "execution_count": null,
   "id": "73ca0abd-be04-46cb-b6b4-d5628cb21a1c",
   "metadata": {},
   "outputs": [],
   "source": [
    "pd.options.display.max_columns = None\n",
    "pd.options.display.max_rows = None"
   ]
  },
  {
   "cell_type": "code",
   "execution_count": null,
   "id": "6583968d-bf53-4077-83ff-de64096d54ef",
   "metadata": {},
   "outputs": [],
   "source": [
    "db_filename = \"properties.db\""
   ]
  },
  {
   "cell_type": "code",
   "execution_count": null,
   "id": "34a16e1a-c435-4e47-8729-8474aa60ea96",
   "metadata": {},
   "outputs": [],
   "source": [
    "df1 = pd.read_csv(\"market_table_fake.csv\")"
   ]
  },
  {
   "cell_type": "code",
   "execution_count": null,
   "id": "de2f8863-1056-431b-b108-962209f7509e",
   "metadata": {
    "scrolled": true
   },
   "outputs": [],
   "source": [
    "df1"
   ]
  },
  {
   "cell_type": "code",
   "execution_count": null,
   "id": "9e526d5e-fd39-49c2-970b-c9d7eb66201d",
   "metadata": {},
   "outputs": [],
   "source": [
    "df2 = pd.read_csv(\"Avail_8.19.csv\")"
   ]
  },
  {
   "cell_type": "code",
   "execution_count": null,
   "id": "895d1eff-95dd-4cd1-8b92-ddd001618981",
   "metadata": {},
   "outputs": [],
   "source": [
    "df2"
   ]
  },
  {
   "cell_type": "code",
   "execution_count": null,
   "id": "a46d6c2f-764a-4f10-8e4a-d661d7c62e9a",
   "metadata": {},
   "outputs": [],
   "source": [
    "df3 = pd.read_csv(\"DUMMY_SHEET.csv\")"
   ]
  },
  {
   "cell_type": "code",
   "execution_count": null,
   "id": "0e038b07-cc2e-47ea-9748-d99df618d43d",
   "metadata": {},
   "outputs": [],
   "source": [
    "df3"
   ]
  },
  {
   "cell_type": "code",
   "execution_count": null,
   "id": "c0cbae16-0d09-4d85-aa7d-29173bc0a631",
   "metadata": {},
   "outputs": [],
   "source": [
    "# SQLite project named 'properties' with main table 'DUMMY_SHEET'\n",
    "\n",
    "with sqlite3.connect(db_filename) as conn:\n",
    "    cursor = conn.cursor()\n",
    "\n",
    "    cursor.execute(\"\"\"\n",
    "        select * from DUMMY_SHEET\n",
    "        where vacant = 1\n",
    "    \"\"\")\n",
    "\n",
    "    for row in cursor.fetchall():\n",
    "        print(row)     \n",
    "\n",
    "# grab this data and plug into HTML via JavaScript"
   ]
  },
  {
   "cell_type": "code",
   "execution_count": null,
   "id": "35d24f17-25a4-48cf-82ae-e15621e5f27b",
   "metadata": {},
   "outputs": [],
   "source": []
  }
 ],
 "metadata": {
  "kernelspec": {
   "display_name": "Python 3 (ipykernel)",
   "language": "python",
   "name": "python3"
  },
  "language_info": {
   "codemirror_mode": {
    "name": "ipython",
    "version": 3
   },
   "file_extension": ".py",
   "mimetype": "text/x-python",
   "name": "python",
   "nbconvert_exporter": "python",
   "pygments_lexer": "ipython3",
   "version": "3.12.5"
  }
 },
 "nbformat": 4,
 "nbformat_minor": 5
}
