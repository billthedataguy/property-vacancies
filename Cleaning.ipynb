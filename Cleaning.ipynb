{
 "cells": [
  {
   "cell_type": "code",
   "execution_count": null,
   "id": "08dd51df-3f2d-4f3b-a025-a13ac6237642",
   "metadata": {},
   "outputs": [],
   "source": [
    "import pandas as pd"
   ]
  },
  {
   "cell_type": "code",
   "execution_count": null,
   "id": "73ca0abd-be04-46cb-b6b4-d5628cb21a1c",
   "metadata": {},
   "outputs": [],
   "source": [
    "pd.options.display.max_columns = None\n",
    "pd.options.display.max_rows = None"
   ]
  },
  {
   "cell_type": "code",
   "execution_count": null,
   "id": "34a16e1a-c435-4e47-8729-8474aa60ea96",
   "metadata": {},
   "outputs": [],
   "source": [
    "df1 = pd.read_csv(\"market_table_fake.csv\")"
   ]
  },
  {
   "cell_type": "code",
   "execution_count": null,
   "id": "de2f8863-1056-431b-b108-962209f7509e",
   "metadata": {
    "scrolled": true
   },
   "outputs": [],
   "source": [
    "df1"
   ]
  },
  {
   "cell_type": "code",
   "execution_count": null,
   "id": "754dad72-99c8-4687-96ef-e5f558835f5e",
   "metadata": {},
   "outputs": [],
   "source": [
    "df2 = pd.read_csv(\"Sample_Availability2.Status_VACANT.csv\")"
   ]
  },
  {
   "cell_type": "code",
   "execution_count": null,
   "id": "2dea738a-42a8-4ec8-91ee-e56de0408883",
   "metadata": {},
   "outputs": [],
   "source": [
    "df2"
   ]
  },
  {
   "cell_type": "code",
   "execution_count": null,
   "id": "9e526d5e-fd39-49c2-970b-c9d7eb66201d",
   "metadata": {},
   "outputs": [],
   "source": [
    "df3 = pd.read_csv(\"vacancy_fake.csv\")"
   ]
  },
  {
   "cell_type": "code",
   "execution_count": null,
   "id": "895d1eff-95dd-4cd1-8b92-ddd001618981",
   "metadata": {},
   "outputs": [],
   "source": [
    "df3"
   ]
  }
 ],
 "metadata": {
  "kernelspec": {
   "display_name": "Python 3 (ipykernel)",
   "language": "python",
   "name": "python3"
  },
  "language_info": {
   "codemirror_mode": {
    "name": "ipython",
    "version": 3
   },
   "file_extension": ".py",
   "mimetype": "text/x-python",
   "name": "python",
   "nbconvert_exporter": "python",
   "pygments_lexer": "ipython3",
   "version": "3.12.5"
  }
 },
 "nbformat": 4,
 "nbformat_minor": 5
}
