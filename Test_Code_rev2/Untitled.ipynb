{
 "cells": [
  {
   "cell_type": "code",
   "execution_count": 2,
   "id": "7aa487b2-e792-4b3d-9d62-13fdbb432275",
   "metadata": {},
   "outputs": [],
   "source": [
    "import sqlite3"
   ]
  },
  {
   "cell_type": "code",
   "execution_count": 4,
   "id": "85556c4d-ffc4-48c1-93f5-d4b4eed8b858",
   "metadata": {},
   "outputs": [],
   "source": [
    "db = sqlite3.connect(\"All_Properties.db\")"
   ]
  },
  {
   "cell_type": "code",
   "execution_count": 8,
   "id": "0a87bb05-7b4b-4f1d-9aff-827490cab101",
   "metadata": {},
   "outputs": [],
   "source": [
    "cursor = db.cursor()"
   ]
  },
  {
   "cell_type": "code",
   "execution_count": 24,
   "id": "4a8df499-f3df-4bfe-a11b-c0137e952ac6",
   "metadata": {},
   "outputs": [
    {
     "ename": "OperationalError",
     "evalue": "table All_Properties already exists",
     "output_type": "error",
     "traceback": [
      "\u001b[1;31m---------------------------------------------------------------------------\u001b[0m",
      "\u001b[1;31mOperationalError\u001b[0m                          Traceback (most recent call last)",
      "Cell \u001b[1;32mIn[24], line 1\u001b[0m\n\u001b[1;32m----> 1\u001b[0m cursor\u001b[38;5;241m.\u001b[39mexecute(\u001b[38;5;124m\"\u001b[39m\u001b[38;5;124mCREATE TABLE All_Properties (id varchar(20) PRIMARY KEY, SQFT FLOAT, Market_Add FLOAT)\u001b[39m\u001b[38;5;124m\"\u001b[39m)\n",
      "\u001b[1;31mOperationalError\u001b[0m: table All_Properties already exists"
     ]
    }
   ],
   "source": [
    "cursor.execute(\"CREATE TABLE All_Properties (id varchar(20) PRIMARY KEY, SQFT FLOAT, Market_Add FLOAT)\")"
   ]
  },
  {
   "cell_type": "code",
   "execution_count": 28,
   "id": "b0dccf2d-aad1-4527-abbd-cd24a4779c46",
   "metadata": {},
   "outputs": [],
   "source": [
    "cursor.execute(\"INSERT INTO All_Properties VALUES('18-2618B', 800, 1500)\")\n",
    "db.commit()"
   ]
  },
  {
   "cell_type": "code",
   "execution_count": null,
   "id": "0acc6378-e556-4e77-8e39-0787a0e2239e",
   "metadata": {},
   "outputs": [],
   "source": []
  }
 ],
 "metadata": {
  "kernelspec": {
   "display_name": "Python 3 (ipykernel)",
   "language": "python",
   "name": "python3"
  },
  "language_info": {
   "codemirror_mode": {
    "name": "ipython",
    "version": 3
   },
   "file_extension": ".py",
   "mimetype": "text/x-python",
   "name": "python",
   "nbconvert_exporter": "python",
   "pygments_lexer": "ipython3",
   "version": "3.12.4"
  }
 },
 "nbformat": 4,
 "nbformat_minor": 5
}
