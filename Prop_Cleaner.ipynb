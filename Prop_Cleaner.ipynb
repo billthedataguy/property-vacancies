{
 "cells": [
  {
   "cell_type": "code",
   "execution_count": null,
   "metadata": {
    "id": "3C678130EPRu"
   },
   "outputs": [],
   "source": [
    "import pandas as pd"
   ]
  },
  {
   "cell_type": "code",
   "execution_count": null,
   "metadata": {
    "id": "pFyq8k9OEfPr"
   },
   "outputs": [],
   "source": [
    "df1 = pd.read_csv(\"Vacancy.csv\")"
   ]
  },
  {
   "cell_type": "code",
   "execution_count": null,
   "metadata": {
    "colab": {
     "base_uri": "https://localhost:8080/",
     "height": 952
    },
    "id": "adHgPrYfEuDx",
    "outputId": "79e080e5-dfb0-49c9-8aa1-d7a25ddb3afd"
   },
   "outputs": [],
   "source": [
    "df1.head(20)"
   ]
  },
  {
   "cell_type": "code",
   "execution_count": null,
   "metadata": {
    "id": "FezaTREREyGb"
   },
   "outputs": [],
   "source": [
    "props = df1['Unnamed: 2']"
   ]
  },
  {
   "cell_type": "code",
   "execution_count": null,
   "metadata": {
    "colab": {
     "base_uri": "https://localhost:8080/",
     "height": 711
    },
    "id": "5KyLvB-hFD1I",
    "outputId": "a608d563-21b8-4bc2-f36a-e847bf54d24b"
   },
   "outputs": [],
   "source": [
    "props.head(20)"
   ]
  },
  {
   "cell_type": "code",
   "execution_count": null,
   "metadata": {
    "id": "B1VftMhJFH1a"
   },
   "outputs": [],
   "source": [
    "omit = ['no amenities', 'Set aside:  60%', 'Bldg/\\nUnit']"
   ]
  },
  {
   "cell_type": "code",
   "execution_count": null,
   "metadata": {
    "id": "alc64IW0Fi7a"
   },
   "outputs": [],
   "source": [
    "props = props.dropna(axis = 0)"
   ]
  },
  {
   "cell_type": "code",
   "execution_count": null,
   "metadata": {
    "id": "dM6Q8Ju5F7Wq"
   },
   "outputs": [],
   "source": [
    "list_props = props.to_list()"
   ]
  },
  {
   "cell_type": "code",
   "execution_count": null,
   "metadata": {
    "colab": {
     "base_uri": "https://localhost:8080/"
    },
    "id": "4RnK21KoGSiY",
    "outputId": "1e664d15-0320-42aa-9522-389b485068c1"
   },
   "outputs": [],
   "source": [
    "list_props"
   ]
  },
  {
   "cell_type": "code",
   "execution_count": null,
   "metadata": {
    "id": "XXiVPDNJGT9Q"
   },
   "outputs": [],
   "source": [
    "clean_props = [item for item in list_props if item not in omit]"
   ]
  },
  {
   "cell_type": "code",
   "execution_count": null,
   "metadata": {
    "colab": {
     "base_uri": "https://localhost:8080/"
    },
    "id": "1ItyVZXLGyGw",
    "outputId": "c286a43f-c582-4c5e-cd82-abfc6f5a940f"
   },
   "outputs": [],
   "source": [
    "clean_props"
   ]
  },
  {
   "cell_type": "code",
   "execution_count": null,
   "metadata": {},
   "outputs": [],
   "source": [
    "props_df = pd.DataFrame(clean_props, columns = ['id'])"
   ]
  },
  {
   "cell_type": "code",
   "execution_count": null,
   "metadata": {},
   "outputs": [],
   "source": [
    "props_df.to_excel('Available_Properties.xlsx', index=False)"
   ]
  },
  {
   "cell_type": "code",
   "execution_count": null,
   "metadata": {},
   "outputs": [],
   "source": []
  }
 ],
 "metadata": {
  "colab": {
   "provenance": []
  },
  "kernelspec": {
   "display_name": "Python 3 (ipykernel)",
   "language": "python",
   "name": "python3"
  },
  "language_info": {
   "codemirror_mode": {
    "name": "ipython",
    "version": 3
   },
   "file_extension": ".py",
   "mimetype": "text/x-python",
   "name": "python",
   "nbconvert_exporter": "python",
   "pygments_lexer": "ipython3",
   "version": "3.9.12"
  }
 },
 "nbformat": 4,
 "nbformat_minor": 4
}
